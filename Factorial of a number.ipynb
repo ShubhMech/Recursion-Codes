{
 "cells": [
  {
   "cell_type": "markdown",
   "id": "77e9738c-0377-40fe-91d6-5ce01c033d30",
   "metadata": {},
   "source": [
    "#### Factorial of a number"
   ]
  },
  {
   "cell_type": "code",
   "execution_count": 1,
   "id": "9371f3d1-7439-4a48-a52d-2404a97d1c64",
   "metadata": {},
   "outputs": [],
   "source": [
    "def fact(n):\n",
    "    if n == 1:\n",
    "        return 1\n",
    "    else:\n",
    "        factorial= n*fact(n-1)\n",
    "        return factorial"
   ]
  },
  {
   "cell_type": "code",
   "execution_count": 2,
   "id": "1912cceb-4ec1-43a2-9ff4-1bc391ccf41b",
   "metadata": {},
   "outputs": [
    {
     "data": {
      "text/plain": [
       "3628800"
      ]
     },
     "execution_count": 2,
     "metadata": {},
     "output_type": "execute_result"
    }
   ],
   "source": [
    "fact(10)"
   ]
  },
  {
   "cell_type": "code",
   "execution_count": 3,
   "id": "748e1060-5106-4a34-8708-1262d182c218",
   "metadata": {},
   "outputs": [
    {
     "data": {
      "text/plain": [
       "120"
      ]
     },
     "execution_count": 3,
     "metadata": {},
     "output_type": "execute_result"
    }
   ],
   "source": [
    "fact(5)"
   ]
  },
  {
   "cell_type": "code",
   "execution_count": null,
   "id": "86b95e59-d348-41ab-a118-afd0a081428e",
   "metadata": {},
   "outputs": [],
   "source": []
  }
 ],
 "metadata": {
  "kernelspec": {
   "display_name": "Python 3",
   "language": "python",
   "name": "python3"
  },
  "language_info": {
   "codemirror_mode": {
    "name": "ipython",
    "version": 3
   },
   "file_extension": ".py",
   "mimetype": "text/x-python",
   "name": "python",
   "nbconvert_exporter": "python",
   "pygments_lexer": "ipython3",
   "version": "3.8.5"
  }
 },
 "nbformat": 4,
 "nbformat_minor": 5
}
