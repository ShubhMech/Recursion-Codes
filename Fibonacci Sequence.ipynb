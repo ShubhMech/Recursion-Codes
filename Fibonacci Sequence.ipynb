{
 "cells": [
  {
   "cell_type": "markdown",
   "id": "6d37096e-ce6c-4262-bf17-5f62bf2d1fe4",
   "metadata": {},
   "source": [
    "#### How to find a fibonacci sequence"
   ]
  },
  {
   "cell_type": "code",
   "execution_count": 2,
   "id": "f27638cb-2297-4873-bfdd-17d6549e785c",
   "metadata": {},
   "outputs": [
    {
     "ename": "SyntaxError",
     "evalue": "invalid syntax (<ipython-input-2-c2e95e573f77>, line 5)",
     "output_type": "error",
     "traceback": [
      "\u001b[1;36m  File \u001b[1;32m\"<ipython-input-2-c2e95e573f77>\"\u001b[1;36m, line \u001b[1;32m5\u001b[0m\n\u001b[1;33m    fibo=\u001b[0m\n\u001b[1;37m          ^\u001b[0m\n\u001b[1;31mSyntaxError\u001b[0m\u001b[1;31m:\u001b[0m invalid syntax\n"
     ]
    }
   ],
   "source": [
    "def fibon(n):\n",
    "    if n == 1 or n== 2:\n",
    "        return 1\n",
    "    else:\n",
    "        fibo= \n",
    "        return(fibo)\n",
    "        \n",
    "\n"
   ]
  },
  {
   "cell_type": "code",
   "execution_count": null,
   "id": "3118d93b-e44b-4e70-bf09-de0d8722afa5",
   "metadata": {},
   "outputs": [],
   "source": [
    "1 1 2 3 5 8 13 21 34 55 89 144 233"
   ]
  }
 ],
 "metadata": {
  "kernelspec": {
   "display_name": "Python 3",
   "language": "python",
   "name": "python3"
  },
  "language_info": {
   "codemirror_mode": {
    "name": "ipython",
    "version": 3
   },
   "file_extension": ".py",
   "mimetype": "text/x-python",
   "name": "python",
   "nbconvert_exporter": "python",
   "pygments_lexer": "ipython3",
   "version": "3.8.5"
  }
 },
 "nbformat": 4,
 "nbformat_minor": 5
}
