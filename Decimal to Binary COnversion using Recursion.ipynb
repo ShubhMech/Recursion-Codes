{
 "cells": [
  {
   "cell_type": "code",
   "execution_count": 1,
   "id": "f1fb901a-f8e9-4f74-b49e-43a755e870ee",
   "metadata": {},
   "outputs": [],
   "source": [
    "def deci_bin(num):\n",
    "    if num//2==0:\n",
    "        return \"1\"\n",
    "    else:\n",
    "        return str(num%2) + deci_bin(num//2)"
   ]
  },
  {
   "cell_type": "code",
   "execution_count": 5,
   "id": "bfbeac75-b8f0-45cc-a112-1176de017573",
   "metadata": {},
   "outputs": [],
   "source": [
    "result=deci_bin(77)"
   ]
  },
  {
   "cell_type": "code",
   "execution_count": null,
   "id": "e0f494d2-d8eb-4c45-b9cb-93e69640b9ea",
   "metadata": {},
   "outputs": [],
   "source": [
    "1001101"
   ]
  }
 ],
 "metadata": {
  "kernelspec": {
   "display_name": "Python 3",
   "language": "python",
   "name": "python3"
  },
  "language_info": {
   "codemirror_mode": {
    "name": "ipython",
    "version": 3
   },
   "file_extension": ".py",
   "mimetype": "text/x-python",
   "name": "python",
   "nbconvert_exporter": "python",
   "pygments_lexer": "ipython3",
   "version": "3.8.5"
  }
 },
 "nbformat": 4,
 "nbformat_minor": 5
}
