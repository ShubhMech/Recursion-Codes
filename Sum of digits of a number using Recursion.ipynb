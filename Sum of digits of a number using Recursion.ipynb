{
 "cells": [
  {
   "cell_type": "markdown",
   "id": "d2bb785e-869d-4482-92d1-3cf70f474fa5",
   "metadata": {},
   "source": [
    "#### Finding sum of digits of a given number\n",
    "\n",
    "First without recursion"
   ]
  },
  {
   "cell_type": "code",
   "execution_count": 39,
   "id": "6710f553-8438-4157-ab61-2fa53bbc6712",
   "metadata": {},
   "outputs": [],
   "source": [
    "def sum_of_number(n):\n",
    "    sum_= 0\n",
    "    num= str(n)\n",
    "    for i in range(0,len(num)):\n",
    "#         n= num[i]\n",
    "        sum_ += int(num[i])\n",
    "    return sum_\n",
    "    \n",
    "    \n",
    "    "
   ]
  },
  {
   "cell_type": "code",
   "execution_count": 44,
   "id": "d43d052e-65f6-4a1b-b5f6-f0d5e0027712",
   "metadata": {},
   "outputs": [
    {
     "data": {
      "text/plain": [
       "12"
      ]
     },
     "execution_count": 44,
     "metadata": {},
     "output_type": "execute_result"
    }
   ],
   "source": [
    "sum_of_number(31008)"
   ]
  },
  {
   "cell_type": "markdown",
   "id": "f3084ae2-7a06-4751-afa0-acba48920c38",
   "metadata": {},
   "source": [
    "#### Sum of numbers using recursion"
   ]
  },
  {
   "cell_type": "code",
   "execution_count": 62,
   "id": "ecac1e8c-01b3-4241-b846-194ec95fc7a4",
   "metadata": {},
   "outputs": [
    {
     "data": {
      "text/plain": [
       "12"
      ]
     },
     "execution_count": 62,
     "metadata": {},
     "output_type": "execute_result"
    }
   ],
   "source": [
    "123//10"
   ]
  },
  {
   "cell_type": "code",
   "execution_count": 63,
   "id": "10c1f9e6-a4f9-4222-8b01-b5384c5d43cf",
   "metadata": {},
   "outputs": [
    {
     "data": {
      "text/plain": [
       "3"
      ]
     },
     "execution_count": 63,
     "metadata": {},
     "output_type": "execute_result"
    }
   ],
   "source": [
    "123%10"
   ]
  },
  {
   "cell_type": "code",
   "execution_count": 64,
   "id": "90354ec1-c8d3-4f6a-bd9a-e36b4a8218fe",
   "metadata": {},
   "outputs": [
    {
     "data": {
      "text/plain": [
       "1"
      ]
     },
     "execution_count": 64,
     "metadata": {},
     "output_type": "execute_result"
    }
   ],
   "source": [
    "12//10"
   ]
  },
  {
   "cell_type": "code",
   "execution_count": 65,
   "id": "e0c544c7-049f-497c-b7c3-a5a511b698f4",
   "metadata": {},
   "outputs": [
    {
     "data": {
      "text/plain": [
       "2"
      ]
     },
     "execution_count": 65,
     "metadata": {},
     "output_type": "execute_result"
    }
   ],
   "source": [
    "12%10"
   ]
  },
  {
   "cell_type": "code",
   "execution_count": 66,
   "id": "4899606f-7081-4e7c-9205-b2c8b3e38472",
   "metadata": {},
   "outputs": [],
   "source": [
    "def recur(n):\n",
    "    if n%10 == 0:\n",
    "        return n\n",
    "    else:\n",
    "        return n%10 + recur(n//10)\n",
    "    "
   ]
  },
  {
   "cell_type": "code",
   "execution_count": 67,
   "id": "15c79b6c-7336-4b88-8eb4-83ea5c0410b8",
   "metadata": {},
   "outputs": [
    {
     "data": {
      "text/plain": [
       "6"
      ]
     },
     "execution_count": 67,
     "metadata": {},
     "output_type": "execute_result"
    }
   ],
   "source": [
    "recur(123)"
   ]
  },
  {
   "cell_type": "code",
   "execution_count": 68,
   "id": "e79bd88c-058c-41a6-b5cf-8f5858c10640",
   "metadata": {},
   "outputs": [
    {
     "data": {
      "text/plain": [
       "10"
      ]
     },
     "execution_count": 68,
     "metadata": {},
     "output_type": "execute_result"
    }
   ],
   "source": [
    "recur(1234)"
   ]
  },
  {
   "cell_type": "code",
   "execution_count": 69,
   "id": "a3ee66d1-3e2c-42e4-ba55-dead1b9ae52b",
   "metadata": {},
   "outputs": [
    {
     "data": {
      "text/plain": [
       "543211234567920"
      ]
     },
     "execution_count": 69,
     "metadata": {},
     "output_type": "execute_result"
    }
   ],
   "source": [
    "recur(5432112345678909876)"
   ]
  },
  {
   "cell_type": "code",
   "execution_count": null,
   "id": "edb8dd79-724b-4bc4-9fb4-7ee4da29ec7d",
   "metadata": {},
   "outputs": [],
   "source": []
  }
 ],
 "metadata": {
  "kernelspec": {
   "display_name": "Python 3",
   "language": "python",
   "name": "python3"
  },
  "language_info": {
   "codemirror_mode": {
    "name": "ipython",
    "version": 3
   },
   "file_extension": ".py",
   "mimetype": "text/x-python",
   "name": "python",
   "nbconvert_exporter": "python",
   "pygments_lexer": "ipython3",
   "version": "3.8.5"
  }
 },
 "nbformat": 4,
 "nbformat_minor": 5
}
