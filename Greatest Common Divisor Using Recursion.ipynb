{
 "cells": [
  {
   "cell_type": "markdown",
   "id": "f5901c11-f991-4786-a938-583a0f150594",
   "metadata": {},
   "source": [
    "#### Code to find the greatest common divisor of two numbers\n",
    "\n",
    "First trying to solve without using recursion"
   ]
  },
  {
   "cell_type": "code",
   "execution_count": 20,
   "id": "eade1a71-7514-4e17-b41e-c68d421f7519",
   "metadata": {},
   "outputs": [],
   "source": [
    "def gcd(a,b):\n",
    "    while True:\n",
    "        assert a >0 and b>0, \"Enter numbers that are greater than 0\"\n",
    "        if (a>b):\n",
    "            if a%b == 0:\n",
    "                print(\"The Greatest Common Divisor of the number is:\", b)\n",
    "                break\n",
    "            else:\n",
    "                a= a-b\n",
    "\n",
    "        elif b>a:\n",
    "            if b%a == 0:\n",
    "                print(\"The Greatest Common Divisor of the number is:\", a)\n",
    "                break\n",
    "            else:\n",
    "                b= b-a\n",
    "\n",
    "        "
   ]
  },
  {
   "cell_type": "code",
   "execution_count": 22,
   "id": "570fdb4d-8ff0-45ef-88e2-9ac825f56573",
   "metadata": {},
   "outputs": [
    {
     "name": "stdout",
     "output_type": "stream",
     "text": [
      "The Greatest Common Divisor of the number is: 4\n"
     ]
    }
   ],
   "source": [
    "gcd(4,40)"
   ]
  },
  {
   "cell_type": "markdown",
   "id": "195fcbb7-d00f-4f03-bbfd-7128ba28f55f",
   "metadata": {},
   "source": [
    "#### Now trying using Recursion:"
   ]
  },
  {
   "cell_type": "code",
   "execution_count": 23,
   "id": "b5345e10-b8f4-4b58-baa7-1b30ac766848",
   "metadata": {},
   "outputs": [],
   "source": [
    "def gcd(a,b):\n",
    "    if a>b:\n",
    "        max= a\n",
    "        min= b\n",
    "    else:\n",
    "        max= b\n",
    "        min= a\n",
    "    \n",
    "    if max%min==0:\n",
    "        return min\n",
    "    else:\n",
    "        return gcd(max-min,min)\n",
    "    "
   ]
  },
  {
   "cell_type": "code",
   "execution_count": 24,
   "id": "78a8bfe6-f608-41db-83fe-5828a6be0c90",
   "metadata": {},
   "outputs": [
    {
     "data": {
      "text/plain": [
       "4"
      ]
     },
     "execution_count": 24,
     "metadata": {},
     "output_type": "execute_result"
    }
   ],
   "source": [
    "gcd(40,4)"
   ]
  },
  {
   "cell_type": "code",
   "execution_count": null,
   "id": "1f8c0ab4-af26-43c1-a3d3-d90c9ff4728e",
   "metadata": {},
   "outputs": [],
   "source": []
  }
 ],
 "metadata": {
  "kernelspec": {
   "display_name": "Python 3",
   "language": "python",
   "name": "python3"
  },
  "language_info": {
   "codemirror_mode": {
    "name": "ipython",
    "version": 3
   },
   "file_extension": ".py",
   "mimetype": "text/x-python",
   "name": "python",
   "nbconvert_exporter": "python",
   "pygments_lexer": "ipython3",
   "version": "3.8.5"
  }
 },
 "nbformat": 4,
 "nbformat_minor": 5
}
