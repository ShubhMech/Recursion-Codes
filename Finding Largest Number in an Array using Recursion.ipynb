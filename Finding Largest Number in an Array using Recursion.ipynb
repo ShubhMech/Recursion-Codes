{
 "cells": [
  {
   "cell_type": "markdown",
   "id": "7a59e2e7-5a51-426d-8dbb-0ae11c55fcb2",
   "metadata": {},
   "source": [
    "#### Finding the biggest number in an array usinf recursion"
   ]
  },
  {
   "cell_type": "code",
   "execution_count": 6,
   "id": "a1bcb982-6230-4c06-b598-c0cdfb7230f6",
   "metadata": {},
   "outputs": [],
   "source": [
    "from array import *\n",
    "arr1= array(\"i\",[11,2,123,44,65,56])"
   ]
  },
  {
   "cell_type": "code",
   "execution_count": 18,
   "id": "b69d0804-887d-4649-a342-d8840f946268",
   "metadata": {},
   "outputs": [],
   "source": [
    "import numpy as np\n",
    "arr2= np.array([11,22222,123,44,65,56])"
   ]
  },
  {
   "cell_type": "code",
   "execution_count": 7,
   "id": "e24dbd5d-e418-4d7b-98b3-e1690538e1ea",
   "metadata": {},
   "outputs": [
    {
     "data": {
      "text/plain": [
       "65"
      ]
     },
     "execution_count": 7,
     "metadata": {},
     "output_type": "execute_result"
    }
   ],
   "source": [
    "arr1[4]"
   ]
  },
  {
   "cell_type": "code",
   "execution_count": 19,
   "id": "02b8d69d-23dd-4897-a68a-33ef7f95a3b2",
   "metadata": {},
   "outputs": [],
   "source": [
    "def max_(arr):\n",
    "    if len(arr)==1:\n",
    "        return arr\n",
    "    else:\n",
    "        return max((arr[-1]),max_(arr[:-1]))"
   ]
  },
  {
   "cell_type": "code",
   "execution_count": 20,
   "id": "ae5e0d7f-2801-4a26-8589-ca717f0ab411",
   "metadata": {},
   "outputs": [
    {
     "data": {
      "text/plain": [
       "22222"
      ]
     },
     "execution_count": 20,
     "metadata": {},
     "output_type": "execute_result"
    }
   ],
   "source": [
    "max_(arr2)"
   ]
  },
  {
   "cell_type": "code",
   "execution_count": null,
   "id": "30918a0a-45d6-4f11-b374-ff19e4094ce9",
   "metadata": {},
   "outputs": [],
   "source": []
  }
 ],
 "metadata": {
  "kernelspec": {
   "display_name": "Python 3",
   "language": "python",
   "name": "python3"
  },
  "language_info": {
   "codemirror_mode": {
    "name": "ipython",
    "version": 3
   },
   "file_extension": ".py",
   "mimetype": "text/x-python",
   "name": "python",
   "nbconvert_exporter": "python",
   "pygments_lexer": "ipython3",
   "version": "3.8.5"
  }
 },
 "nbformat": 4,
 "nbformat_minor": 5
}
