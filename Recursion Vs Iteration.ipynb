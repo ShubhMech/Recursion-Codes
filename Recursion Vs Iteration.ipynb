{
 "cells": [
  {
   "cell_type": "markdown",
   "id": "5d1858bc-609d-438a-a3ba-fdc45ab8b5ae",
   "metadata": {},
   "source": [
    "#### Iterative Way of Solving the Problem:\n",
    "Code for power of two"
   ]
  },
  {
   "cell_type": "code",
   "execution_count": 3,
   "id": "5b5fb8af-b05a-4785-8aad-8b657be4ec5e",
   "metadata": {},
   "outputs": [],
   "source": [
    "def pow_2(n):\n",
    "    i=0\n",
    "    power= 1\n",
    "    while(i<n):\n",
    "        power= power*2\n",
    "        i += 1\n",
    "    return power"
   ]
  },
  {
   "cell_type": "code",
   "execution_count": 4,
   "id": "b51cfc67-a671-4b17-9056-cddfca7773b7",
   "metadata": {},
   "outputs": [],
   "source": [
    "power=pow_2(10)"
   ]
  },
  {
   "cell_type": "code",
   "execution_count": 5,
   "id": "a5f92ec3-602f-4d69-9fde-bed8a59e0df1",
   "metadata": {},
   "outputs": [
    {
     "name": "stdout",
     "output_type": "stream",
     "text": [
      "1024\n"
     ]
    }
   ],
   "source": [
    "print(power)"
   ]
  },
  {
   "cell_type": "markdown",
   "id": "e4a6bd05-4331-4de6-8356-29a2bb71b110",
   "metadata": {},
   "source": [
    "#### Now solving the problem using recursion:"
   ]
  },
  {
   "cell_type": "code",
   "execution_count": 13,
   "id": "cf6509d6-7c61-4eb7-a90b-39621bcb5d80",
   "metadata": {},
   "outputs": [],
   "source": [
    "def pow_(n):\n",
    "    if n==0:\n",
    "        return 1\n",
    "    else:\n",
    "        power = 2* pow_(n-1)\n",
    "        return power "
   ]
  },
  {
   "cell_type": "markdown",
   "id": "c019c30c-38b5-4cba-8e73-7348a99a7fa1",
   "metadata": {},
   "source": [
    "pow_(10)"
   ]
  },
  {
   "cell_type": "code",
   "execution_count": 14,
   "id": "7085be86-d94a-4969-9483-d0a24ffa614e",
   "metadata": {},
   "outputs": [
    {
     "data": {
      "text/plain": [
       "1024"
      ]
     },
     "execution_count": 14,
     "metadata": {},
     "output_type": "execute_result"
    }
   ],
   "source": [
    "pow_(10)"
   ]
  },
  {
   "cell_type": "code",
   "execution_count": 17,
   "id": "72397a79-f110-48ed-ab3e-f945443c39b8",
   "metadata": {},
   "outputs": [
    {
     "data": {
      "text/plain": [
       "8"
      ]
     },
     "execution_count": 17,
     "metadata": {},
     "output_type": "execute_result"
    }
   ],
   "source": [
    "pow_(3)"
   ]
  },
  {
   "cell_type": "markdown",
   "id": "13c7d2c8-865e-4ba2-a241-fcecbe663e02",
   "metadata": {},
   "source": [
    "2*pow_(2)*pow_(1)*pow_(0)"
   ]
  },
  {
   "cell_type": "code",
   "execution_count": null,
   "id": "c16c42bb-5cbd-4e9f-8ceb-9eba2e11ad95",
   "metadata": {},
   "outputs": [],
   "source": []
  }
 ],
 "metadata": {
  "kernelspec": {
   "display_name": "Python 3",
   "language": "python",
   "name": "python3"
  },
  "language_info": {
   "codemirror_mode": {
    "name": "ipython",
    "version": 3
   },
   "file_extension": ".py",
   "mimetype": "text/x-python",
   "name": "python",
   "nbconvert_exporter": "python",
   "pygments_lexer": "ipython3",
   "version": "3.8.5"
  }
 },
 "nbformat": 4,
 "nbformat_minor": 5
}
